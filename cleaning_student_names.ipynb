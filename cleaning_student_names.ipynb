{
 "cells": [
  {
   "cell_type": "code",
   "execution_count": 19,
   "id": "36f73745",
   "metadata": {},
   "outputs": [
    {
     "name": "stderr",
     "output_type": "stream",
     "text": [
      "C:\\Users\\Chapm\\.conda\\envs\\PythonData\\lib\\site-packages\\ipykernel_launcher.py:36: FutureWarning: The default value of regex will change from True to False in a future version.\n"
     ]
    },
    {
     "data": {
      "text/plain": [
       "151"
      ]
     },
     "execution_count": 19,
     "metadata": {},
     "output_type": "execute_result"
    }
   ],
   "source": [
    "import pandas as pd\n",
    "\n",
    "file_to_load = \"Resources/students_complete.csv\"\n",
    "\n",
    "student_data_df = pd.read_csv (file_to_load)\n",
    "\n",
    "student_data_df.head()\n",
    "\n",
    "student_names = student_data_df[\"student_name\"].tolist()\n",
    "\n",
    "    \n",
    "students_to_fix = []\n",
    "\n",
    "prefixes = []\n",
    "\n",
    "suffixes = []\n",
    "\n",
    "\n",
    "prefixes_suffixes = [\"Dr. \", \"Mr. \",\"Ms. \", \"Mrs. \", \"Miss \", \" MD\", \" DDS\", \" DVM\", \" PhD\"]\n",
    "\n",
    "for name in student_names:\n",
    "    if len(name.split()) >= 3:\n",
    "        students_to_fix.append(name)\n",
    "\n",
    "for name in students_to_fix:\n",
    "    if len(name.split()[0])<=4:\n",
    "        prefixes.append(name.split()[0])\n",
    "\n",
    "\n",
    "for name in students_to_fix:\n",
    "    if len(name.split()[-1])<=3:\n",
    "        suffixes.append(name.split()[-1])\n",
    "\n",
    "#replace prefix/suffix with whitespace\n",
    "for word in prefixes_suffixes:\n",
    "    student_data_df[\"student_name\"] = student_data_df[\"student_name\"].str.replace(word,\"\")\n",
    "\n",
    "\n",
    "student_data_df.head(10)\n",
    "\n",
    "# Put the cleaned students' names in another list.\n",
    "student_names = student_data_df[\"student_name\"].tolist()\n",
    "\n",
    "\n",
    "# Create a new list and use it for the for loop to iterate through the list.\n",
    "students_fixed = []\n",
    "\n",
    "# Use an if statement to check the length of the name.\n",
    "\n",
    "# If the name is greater than or equal to 3, add the name to the list.\n",
    "\n",
    "for name in student_names:\n",
    "    if len(name.split())>=3:\n",
    "        students_fixed.append(name)\n",
    "\n",
    "len(students_fixed)"
   ]
  },
  {
   "cell_type": "code",
   "execution_count": null,
   "id": "69842c77",
   "metadata": {},
   "outputs": [],
   "source": [
    "name = \"Mrs. Linda Santiago\"\n",
    "\n",
    "print(name.split(), len(name.split()))\n"
   ]
  },
  {
   "cell_type": "code",
   "execution_count": null,
   "id": "d2af2a9c",
   "metadata": {},
   "outputs": [],
   "source": []
  }
 ],
 "metadata": {
  "kernelspec": {
   "display_name": "PythonData",
   "language": "python",
   "name": "pythondata"
  },
  "language_info": {
   "codemirror_mode": {
    "name": "ipython",
    "version": 3
   },
   "file_extension": ".py",
   "mimetype": "text/x-python",
   "name": "python",
   "nbconvert_exporter": "python",
   "pygments_lexer": "ipython3",
   "version": "3.7.13"
  }
 },
 "nbformat": 4,
 "nbformat_minor": 5
}
