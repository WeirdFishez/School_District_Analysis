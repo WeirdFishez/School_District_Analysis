{
 "cells": [
  {
   "cell_type": "code",
   "execution_count": null,
   "id": "d8af72d9",
   "metadata": {},
   "outputs": [],
   "source": [
    "import pandas as pd\n",
    "\n",
    "\n",
    "high_school_dicts = [{\"School ID\": 0, \"school_name\": \"Huang High    School\", \"type\": \"District\"},\n",
    "                   {\"School ID\": 1, \"school_name\": \"Figueroa High School\", \"type\": \"District\"},\n",
    "                    {\"School ID\": 2, \"school_name\":\"Shelton High School\", \"type\": \"Charter\"},\n",
    "                    {\"School ID\": 3, \"school_name\":\"Hernandez High School\", \"type\": \"District\"},\n",
    "                    {\"School ID\": 4, \"school_name\":\"Griffin High School\", \"type\": \"Charter\"}]\n",
    "school_df = pd.DataFrame(high_school_dicts)\n",
    "    \n",
    "\n",
    "school_df"
   ]
  },
  {
   "cell_type": "code",
   "execution_count": 10,
   "id": "ed2d6137",
   "metadata": {},
   "outputs": [
    {
     "data": {
      "text/plain": [
       "RangeIndex(start=0, stop=15, step=1)"
      ]
     },
     "execution_count": 10,
     "metadata": {},
     "output_type": "execute_result"
    }
   ],
   "source": [
    "# Three separate lists of information on high schools\n",
    "import pandas as pd\n",
    "\n",
    "school_id = [0, 1, 2, 3, 4,5,6,7,8,9,10,11,12,13,14]\n",
    "\n",
    "school_name = [\"Huang High School\", \"Figueroa High School\",\"Shelton High School\",\n",
    "               \"Hernandez High School\",\"Griffin High School\",\"Wilson High School\",\n",
    "               \"Cabrera High School\",\"Bailey High School\",\"Holden High School\",\n",
    "               \"Pena HIgh School\",\"Wright High School\",\"Rodriguez High School\",\n",
    "               \"Johnson High School\",\"Ford High School\",\"Thomas High School\"]\n",
    "\n",
    "type_of_school = [\"District\", \"District\", \"Charter\", \"District\",\"Charter\",\n",
    "                  \"Charter\",\"Charter\",\"District\",\"Charter\",\"Charter\",\n",
    "                 \"Charter\",\"District\",\"District\",\"District\",\"Charter\"]\n",
    "\n",
    "# Initialize a new DataFrame.\n",
    "school_df = pd.DataFrame()\n",
    "\n",
    "school_df[\"School ID\"]=school_id\n",
    "\n",
    "school_df[\"School Name\"]=school_name\n",
    "\n",
    "school_df[\"Type\"]=type_of_school\n",
    "\n",
    "school_df.index"
   ]
  },
  {
   "cell_type": "code",
   "execution_count": null,
   "id": "09f9eeb8",
   "metadata": {},
   "outputs": [],
   "source": []
  }
 ],
 "metadata": {
  "kernelspec": {
   "display_name": "PythonData",
   "language": "python",
   "name": "pythondata"
  },
  "language_info": {
   "codemirror_mode": {
    "name": "ipython",
    "version": 3
   },
   "file_extension": ".py",
   "mimetype": "text/x-python",
   "name": "python",
   "nbconvert_exporter": "python",
   "pygments_lexer": "ipython3",
   "version": "3.7.13"
  }
 },
 "nbformat": 4,
 "nbformat_minor": 5
}
